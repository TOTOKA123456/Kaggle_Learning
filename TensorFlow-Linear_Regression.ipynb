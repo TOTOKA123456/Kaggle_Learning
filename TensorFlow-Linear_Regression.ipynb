{
 "cells": [
  {
   "cell_type": "markdown",
   "metadata": {},
   "source": [
    "## Using the Matrix Inverse Method"
   ]
  },
  {
   "cell_type": "code",
   "execution_count": 1,
   "metadata": {
    "collapsed": true
   },
   "outputs": [],
   "source": [
    "import matplotlib.pyplot as plt\n",
    "import numpy as np\n",
    "import tensorflow as tf"
   ]
  },
  {
   "cell_type": "code",
   "execution_count": 2,
   "metadata": {
    "collapsed": true
   },
   "outputs": [],
   "source": [
    "x_vals = np.linspace(0, 10, 100)\n",
    "y_vals = x_vals + np.random.normal(0, 1, 100)"
   ]
  },
  {
   "cell_type": "code",
   "execution_count": 11,
   "metadata": {
    "collapsed": true
   },
   "outputs": [],
   "source": [
    "x_vals_column = np.transpose(np.matrix(x_vals))\n",
    "ones_column = np.transpose(np.matrix(np.repeat(1, 100)))\n",
    "A = np.column_stack((x_vals_column, ones_column))\n",
    "b = np.transpose(np.matrix(y_vals))"
   ]
  },
  {
   "cell_type": "code",
   "execution_count": 13,
   "metadata": {
    "collapsed": true
   },
   "outputs": [],
   "source": [
    "A_tensor = tf.constant(A)        # A是array，转为tensor  100*2\n",
    "b_tensor = tf.constant(b)        # 100*1"
   ]
  },
  {
   "cell_type": "code",
   "execution_count": 15,
   "metadata": {
    "collapsed": true
   },
   "outputs": [],
   "source": [
    "# 解了一个方程组 Ax=b\n",
    "tA_A = tf.matmul(tf.transpose(A_tensor), A_tensor)\n",
    "tA_A_inv = tf.matrix_inverse(tA_A)\n",
    "product = tf.matmul(tA_A_inv, tf.transpose(A_tensor))\n",
    "solution = tf.matmul(product, b_tensor)"
   ]
  },
  {
   "cell_type": "code",
   "execution_count": 19,
   "metadata": {},
   "outputs": [
    {
     "name": "stdout",
     "output_type": "stream",
     "text": [
      "slope: 0.943176183613\n",
      "y_intercept: 0.0511380419923\n"
     ]
    },
    {
     "data": {
      "image/png": "[encoded data removed]",
      "text/plain": [
       "<Figure size 432x288 with 1 Axes>"
      ]
     },
     "metadata": {},
     "output_type": "display_data"
    }
   ],
   "source": [
    "with tf.Session() as sess:\n",
    "    solution_eval = sess.run(solution)\n",
    "    slope = solution_eval[0][0]\n",
    "    y_intercept = solution_eval[1][0]\n",
    "    print('slope: ' + str(slope))\n",
    "    print('y_intercept: ' + str(y_intercept))\n",
    "    # 画出最佳拟合直线\n",
    "    best_fit = []\n",
    "    for i in x_vals:\n",
    "        best_fit.append(slope*i+y_intercept)\n",
    "    plt.plot(x_vals, y_vals, 'o', label='Data')\n",
    "    plt.plot(x_vals, best_fit, 'r-', label='Best fit line', linewidth=3)\n",
    "    plt.legend(loc='upper left')\n",
    "    plt.show()"
   ]
  },
  {
   "cell_type": "markdown",
   "metadata": {},
   "source": [
    "## Implementing a Decomposition Method"
   ]
  },
  {
   "cell_type": "code",
   "execution_count": 21,
   "metadata": {
    "collapsed": true
   },
   "outputs": [],
   "source": [
    "import matplotlib.pyplot as plt\n",
    "import numpy as np\n",
    "import tensorflow as tf\n",
    "from tensorflow.python.framework import ops"
   ]
  },
  {
   "cell_type": "code",
   "execution_count": 22,
   "metadata": {
    "collapsed": true
   },
   "outputs": [],
   "source": [
    "ops.reset_default_graph()     # 清理一下graph"
   ]
  },
  {
   "cell_type": "code",
   "execution_count": 23,
   "metadata": {
    "collapsed": true
   },
   "outputs": [],
   "source": [
    "x_vals = np.linspace(0, 10, 100)\n",
    "y_vals = x_vals + np.random.normal(0, 1, 100)\n",
    "x_vals_column = np.transpose(np.matrix(x_vals))\n",
    "ones_column = np.transpose(np.matrix(np.repeat(1, 100)))\n",
    "A = np.column_stack((x_vals_column, ones_column))\n",
    "b = np.transpose(np.matrix(y_vals))"
   ]
  },
  {
   "cell_type": "code",
   "execution_count": 24,
   "metadata": {
    "collapsed": true
   },
   "outputs": [],
   "source": [
    "A_tensor = tf.constant(A)\n",
    "b_tensor = tf.constant(b)"
   ]
  },
  {
   "cell_type": "code",
   "execution_count": 25,
   "metadata": {
    "collapsed": true
   },
   "outputs": [],
   "source": [
    "# 矩阵分解 求解方程组\n",
    "tA_A = tf.matmul(tf.transpose(A_tensor), A_tensor)\n",
    "L = tf.cholesky(tA_A)\n",
    "tA_b = tf.matmul(tf.transpose(A_tensor), b)\n",
    "sol1 = tf.matrix_solve(L, tA_b)\n",
    "sol2 = tf.matrix_solve(tf.transpose(L), sol1)"
   ]
  },
  {
   "cell_type": "code",
   "execution_count": 27,
   "metadata": {},
   "outputs": [
    {
     "name": "stdout",
     "output_type": "stream",
     "text": [
      "slope: 0.983092472509\n",
      "y_intercept: 0.0543429730828\n"
     ]
    },
    {
     "data": {
      "image/png": "[encoded data removed]",
      "text/plain": [
       "<Figure size 432x288 with 1 Axes>"
      ]
     },
     "metadata": {},
     "output_type": "display_data"
    }
   ],
   "source": [
    "with tf.Session() as sess:\n",
    "    solution_eval1 = sess.run(sol2)\n",
    "    slope = solution_eval1[0][0]\n",
    "    y_intercept = solution_eval1[1][0]\n",
    "    print('slope: ' + str(slope))\n",
    "    print('y_intercept: ' + str(y_intercept))\n",
    "    # 画出最佳拟合曲线\n",
    "    best_fit = []\n",
    "    for i in x_vals:\n",
    "        best_fit.append(slope*i + y_intercept)\n",
    "    plt.plot(x_vals, y_vals, 'o', label='Data')\n",
    "    plt.plot(x_vals, best_fit, 'r-', label='Best fit line', linewidth=3)\n",
    "    plt.legend(loc='upper left')\n",
    "    plt.show()"
   ]
  },
  {
   "cell_type": "markdown",
   "metadata": {},
   "source": [
    "## The TensorFlow Way "
   ]
  },
  {
   "cell_type": "code",
   "execution_count": 28,
   "metadata": {
    "collapsed": true
   },
   "outputs": [],
   "source": [
    "import matplotlib.pyplot as plt\n",
    "import numpy as np\n",
    "import tensorflow as tf\n",
    "from tensorflow.python.framework import ops\n",
    "from sklearn import datasets"
   ]
  },
  {
   "cell_type": "code",
   "execution_count": 29,
   "metadata": {
    "collapsed": true
   },
   "outputs": [],
   "source": [
    "ops.reset_default_graph()"
   ]
  },
  {
   "cell_type": "code",
   "execution_count": 30,
   "metadata": {
    "collapsed": true
   },
   "outputs": [],
   "source": [
    "iris = datasets.load_iris()"
   ]
  },
  {
   "cell_type": "code",
   "execution_count": 31,
   "metadata": {
    "collapsed": true
   },
   "outputs": [],
   "source": [
    "x_vals = np.array([x[3] for x in iris.data])\n",
    "y_vals = np.array([y[0] for y in iris.data])"
   ]
  },
  {
   "cell_type": "code",
   "execution_count": 37,
   "metadata": {
    "collapsed": true
   },
   "outputs": [],
   "source": [
    "learning_rate = 0.05\n",
    "batch_size = 25\n",
    "#占位符\n",
    "x_data = tf.placeholder(shape=[None, 1], dtype=tf.float32)\n",
    "y_target = tf.placeholder(shape=[None, 1], dtype=tf.float32)\n",
    "#变量-学习参数\n",
    "A = tf.Variable(tf.random_normal(shape=[1,1]))\n",
    "b = tf.Variable(tf.random_normal(shape=[1,1]))"
   ]
  },
  {
   "cell_type": "code",
   "execution_count": 39,
   "metadata": {
    "collapsed": true
   },
   "outputs": [],
   "source": [
    "model_output = tf.add(tf.matmul(x_data, A), b)"
   ]
  },
  {
   "cell_type": "code",
   "execution_count": 40,
   "metadata": {
    "collapsed": true
   },
   "outputs": [],
   "source": [
    "# 损失函数和优化器\n",
    "loss = tf.reduce_mean(tf.square(y_target - model_output))\n",
    "my_opt = tf.train.GradientDescentOptimizer(learning_rate)\n",
    "train_step = my_opt.minimize(loss)"
   ]
  },
  {
   "cell_type": "code",
   "execution_count": 41,
   "metadata": {
    "collapsed": true
   },
   "outputs": [],
   "source": [
    "init = tf.global_variables_initializer()"
   ]
  },
  {
   "cell_type": "code",
   "execution_count": 50,
   "metadata": {},
   "outputs": [
    {
     "name": "stdout",
     "output_type": "stream",
     "text": [
      "Step # 25 A = [[ 1.71326315]] b = [[ 3.46515584]]\n",
      "Loss = 0.675723\n",
      "Step # 50 A = [[ 1.39803934]] b = [[ 3.99128628]]\n",
      "Loss = 0.596861\n",
      "Step # 75 A = [[ 1.19008291]] b = [[ 4.33915186]]\n",
      "Loss = 0.304545\n",
      "Step # 100 A = [[ 1.07072341]] b = [[ 4.51651001]]\n",
      "Loss = 0.155133\n"
     ]
    },
    {
     "data": {
      "image/png": "[encoded data removed]",
      "text/plain": [
       "<Figure size 432x288 with 1 Axes>"
      ]
     },
     "metadata": {},
     "output_type": "display_data"
    },
    {
     "data": {
      "image/png": "[encoded data removed]",
      "text/plain": [
       "<Figure size 432x288 with 1 Axes>"
      ]
     },
     "metadata": {},
     "output_type": "display_data"
    }
   ],
   "source": [
    "with tf.Session() as sess:\n",
    "    loss_vec = []\n",
    "    sess.run(init)\n",
    "    for i in range(100):\n",
    "        rand_index = np.random.choice(len(x_vals), size=batch_size)       # 150随机挑出25个，作为一个batch\n",
    "        rand_x = np.transpose([x_vals[rand_index]])\n",
    "        rand_y = np.transpose([y_vals[rand_index]])\n",
    "        sess.run(train_step, feed_dict={x_data: rand_x, y_target: rand_y})\n",
    "        temp_loss = sess.run(loss, feed_dict={x_data: rand_x, y_target: rand_y})\n",
    "        loss_vec.append(temp_loss)\n",
    "        if (i+1)%25 == 0:\n",
    "            print('Step # ' + str(i+1) + ' A = ' + str(sess.run(A)) + ' b = ' + str(sess.run(b)))\n",
    "            print('Loss = ' + str(temp_loss))\n",
    "    # 画拟合曲线和散点图\n",
    "    [slope] = sess.run(A)\n",
    "    [y_intercept] = sess.run(b)\n",
    "    best_fit = []\n",
    "    for i in x_vals:\n",
    "        best_fit.append(slope*i+y_intercept)\n",
    "    plt.plot(x_vals, y_vals, 'o', label='Data Points')\n",
    "    plt.plot(x_vals, best_fit, 'r-', label='Best fit line', linewidth=3)\n",
    "    plt.legend(loc='upper left')\n",
    "    plt.title('Sepal Length vs Pedal Width')\n",
    "    plt.xlabel('Pedal Width')\n",
    "    plt.ylabel('Sepal Length')\n",
    "    plt.show()\n",
    "    # 画损失曲线\n",
    "    plt.plot(loss_vec, 'k-')\n",
    "    plt.title('L2 Loss per Generation')\n",
    "    plt.xlabel('Generation')\n",
    "    plt.ylabel('L2 Loss')\n",
    "    plt.show()"
   ]
  },
  {
   "cell_type": "markdown",
   "metadata": {},
   "source": [
    "## Loss Function"
   ]
  },
  {
   "cell_type": "code",
   "execution_count": 56,
   "metadata": {
    "collapsed": true
   },
   "outputs": [],
   "source": [
    "import matplotlib.pyplot as plt\n",
    "import numpy as np\n",
    "import tensorflow as tf\n",
    "from tensorflow.python.framework import ops\n",
    "from sklearn import datasets"
   ]
  },
  {
   "cell_type": "code",
   "execution_count": 57,
   "metadata": {
    "collapsed": true
   },
   "outputs": [],
   "source": [
    "ops.reset_default_graph()"
   ]
  },
  {
   "cell_type": "code",
   "execution_count": 58,
   "metadata": {
    "collapsed": true
   },
   "outputs": [],
   "source": [
    "iris = datasets.load_iris()"
   ]
  },
  {
   "cell_type": "code",
   "execution_count": 59,
   "metadata": {
    "collapsed": true
   },
   "outputs": [],
   "source": [
    "x_vals = np.array([x[3] for x in iris.data])\n",
    "y_vals = np.array([y[0] for y in iris.data])"
   ]
  },
  {
   "cell_type": "code",
   "execution_count": 60,
   "metadata": {
    "collapsed": true
   },
   "outputs": [],
   "source": [
    "learning_rate = 0.05\n",
    "batch_size = 25\n",
    "#占位符\n",
    "x_data = tf.placeholder(shape=[None, 1], dtype=tf.float32)\n",
    "y_target = tf.placeholder(shape=[None, 1], dtype=tf.float32)\n",
    "#变量-学习参数\n",
    "A = tf.Variable(tf.random_normal(shape=[1,1]))\n",
    "b = tf.Variable(tf.random_normal(shape=[1,1]))"
   ]
  },
  {
   "cell_type": "code",
   "execution_count": 61,
   "metadata": {
    "collapsed": true
   },
   "outputs": [],
   "source": [
    "model_output = tf.add(tf.matmul(x_data, A), b)"
   ]
  },
  {
   "cell_type": "code",
   "execution_count": 71,
   "metadata": {
    "collapsed": true
   },
   "outputs": [],
   "source": [
    "# 损失函数和优化器\n",
    "loss = tf.reduce_mean(tf.abs(y_target - model_output))\n",
    "my_opt = tf.train.GradientDescentOptimizer(learning_rate)\n",
    "train_step = my_opt.minimize(loss)"
   ]
  },
  {
   "cell_type": "code",
   "execution_count": 72,
   "metadata": {
    "collapsed": true
   },
   "outputs": [],
   "source": [
    "init = tf.global_variables_initializer()"
   ]
  },
  {
   "cell_type": "code",
   "execution_count": 73,
   "metadata": {},
   "outputs": [
    {
     "name": "stdout",
     "output_type": "stream",
     "text": [
      "Step # 25 A = [[ 1.76314676]] b = [[ 2.11634803]]\n",
      "Loss = 1.62503\n",
      "Step # 50 A = [[ 2.141747]] b = [[ 2.77434707]]\n",
      "Loss = 1.09415\n",
      "Step # 75 A = [[ 1.98414683]] b = [[ 3.10834646]]\n",
      "Loss = 0.992433\n",
      "Step # 100 A = [[ 1.73714662]] b = [[ 3.42634583]]\n",
      "Loss = 0.724286\n"
     ]
    },
    {
     "data": {
      "image/png": "[encoded data removed]",
      "text/plain": [
       "<Figure size 432x288 with 1 Axes>"
      ]
     },
     "metadata": {},
     "output_type": "display_data"
    },
    {
     "data": {
      "image/png": "[encoded data removed]",
      "text/plain": [
       "<Figure size 432x288 with 1 Axes>"
      ]
     },
     "metadata": {},
     "output_type": "display_data"
    }
   ],
   "source": [
    "with tf.Session() as sess:\n",
    "    loss_vec = []\n",
    "    sess.run(init)\n",
    "    for i in range(100):\n",
    "        rand_index = np.random.choice(len(x_vals), size=batch_size)       # 150随机挑出25个，作为一个batch\n",
    "        rand_x = np.transpose([x_vals[rand_index]])\n",
    "        rand_y = np.transpose([y_vals[rand_index]])\n",
    "        sess.run(train_step, feed_dict={x_data: rand_x, y_target: rand_y})\n",
    "        temp_loss = sess.run(loss, feed_dict={x_data: rand_x, y_target: rand_y})\n",
    "        loss_vec.append(temp_loss)\n",
    "        if (i+1)%25 == 0:\n",
    "            print('Step # ' + str(i+1) + ' A = ' + str(sess.run(A)) + ' b = ' + str(sess.run(b)))\n",
    "            print('Loss = ' + str(temp_loss))\n",
    "    # 画拟合曲线和散点图\n",
    "    [slope] = sess.run(A)\n",
    "    [y_intercept] = sess.run(b)\n",
    "    best_fit = []\n",
    "    for i in x_vals:\n",
    "        best_fit.append(slope*i+y_intercept)\n",
    "    plt.plot(x_vals, y_vals, 'o', label='Data Points')\n",
    "    plt.plot(x_vals, best_fit, 'r-', label='Best fit line', linewidth=3)\n",
    "    plt.legend(loc='upper left')\n",
    "    plt.title('Sepal Length vs Pedal Width')\n",
    "    plt.xlabel('Pedal Width')\n",
    "    plt.ylabel('Sepal Length')\n",
    "    plt.show()\n",
    "    # 画损失曲线\n",
    "    plt.plot(loss_vec, 'k-')\n",
    "    plt.title('L2 Loss per Generation')\n",
    "    plt.xlabel('Generation')\n",
    "    plt.ylabel('L2 Loss')\n",
    "    plt.show()"
   ]
  },
  {
   "cell_type": "code",
   "execution_count": 85,
   "metadata": {},
   "outputs": [
    {
     "name": "stdout",
     "output_type": "stream",
     "text": [
      "Step # 25 A = [[ 2.33570766]] b = [[ 2.51932263]]\n",
      "Loss = 0.417507\n",
      "Step # 50 A = [[ 2.38486218]] b = [[ 2.6788094]]\n",
      "Loss = 0.384689\n",
      "Step # 75 A = [[ 2.33195901]] b = [[ 2.77736259]]\n",
      "Loss = 0.379233\n",
      "Step # 100 A = [[ 2.21810436]] b = [[ 2.83261585]]\n",
      "Loss = 0.43416\n",
      "Step # 125 A = [[ 2.20618176]] b = [[ 2.98239422]]\n",
      "Loss = 0.340094\n",
      "Step # 150 A = [[ 2.15484977]] b = [[ 3.11106062]]\n",
      "Loss = 0.40118\n",
      "Step # 175 A = [[ 2.05102992]] b = [[ 3.20652294]]\n",
      "Loss = 0.369749\n",
      "Step # 200 A = [[ 1.98962438]] b = [[ 3.33615637]]\n",
      "Loss = 0.359818\n",
      "Step # 225 A = [[ 1.9117986]] b = [[ 3.47435856]]\n",
      "Loss = 0.283409\n",
      "Step # 250 A = [[ 1.73766494]] b = [[ 3.55754471]]\n",
      "Loss = 0.380045\n"
     ]
    },
    {
     "data": {
      "image/png": "[encoded data removed]",
      "text/plain": [
       "<Figure size 432x288 with 1 Axes>"
      ]
     },
     "metadata": {},
     "output_type": "display_data"
    },
    {
     "data": {
      "image/png": "[encoded data removed]",
      "text/plain": [
       "<Figure size 432x288 with 1 Axes>"
      ]
     },
     "metadata": {},
     "output_type": "display_data"
    }
   ],
   "source": [
    "import matplotlib.pyplot as plt\n",
    "import numpy as np\n",
    "import tensorflow as tf\n",
    "from tensorflow.python.framework import ops\n",
    "from sklearn import datasets\n",
    "\n",
    "ops.reset_default_graph()\n",
    "# 数据\n",
    "iris = datasets.load_iris()\n",
    "x_vals = np.array([x[3] for x in iris.data])\n",
    "y_vals = np.array([y[0] for y in iris.data])\n",
    "# 超参数\n",
    "learning_rate = 0.1\n",
    "batch_size = 25\n",
    "#占位符\n",
    "x_data = tf.placeholder(shape=[None, 1], dtype=tf.float32)\n",
    "y_target = tf.placeholder(shape=[None, 1], dtype=tf.float32)\n",
    "#变量-学习参数\n",
    "A = tf.Variable(tf.random_normal(shape=[1,1]))\n",
    "b = tf.Variable(tf.random_normal(shape=[1,1]))\n",
    "\n",
    "model_output = tf.add(tf.matmul(x_data, A), b)\n",
    "\n",
    "# 损失函数和优化器\n",
    "demming_numerator = tf.abs(tf.subtract(y_target, tf.add(tf.matmul(x_data, A), b)))\n",
    "demming_denominator = tf.sqrt(tf.add(tf.square(A), 1))\n",
    "loss = tf.reduce_mean(tf.truediv(demming_numerator, demming_denominator))\n",
    "my_opt = tf.train.GradientDescentOptimizer(learning_rate)\n",
    "train_step = my_opt.minimize(loss)\n",
    "\n",
    "init = tf.global_variables_initializer()\n",
    "\n",
    "with tf.Session() as sess:\n",
    "    loss_vec = []\n",
    "    sess.run(init)\n",
    "    for i in range(250):\n",
    "        rand_index = np.random.choice(len(x_vals), size=batch_size)       # 150随机挑出25个，作为一个batch\n",
    "        rand_x = np.transpose([x_vals[rand_index]])\n",
    "        rand_y = np.transpose([y_vals[rand_index]])\n",
    "        sess.run(train_step, feed_dict={x_data: rand_x, y_target: rand_y})\n",
    "        temp_loss = sess.run(loss, feed_dict={x_data: rand_x, y_target: rand_y})\n",
    "        loss_vec.append(temp_loss)\n",
    "        if (i+1)%25 == 0:\n",
    "            print('Step # ' + str(i+1) + ' A = ' + str(sess.run(A)) + ' b = ' + str(sess.run(b)))\n",
    "            print('Loss = ' + str(temp_loss))\n",
    "    # 画拟合曲线和散点图\n",
    "    [slope] = sess.run(A)\n",
    "    [y_intercept] = sess.run(b)\n",
    "    best_fit = []\n",
    "    for i in x_vals:\n",
    "        best_fit.append(slope*i+y_intercept)\n",
    "    plt.plot(x_vals, y_vals, 'o', label='Data Points')\n",
    "    plt.plot(x_vals, best_fit, 'r-', label='Best fit line', linewidth=3)\n",
    "    plt.legend(loc='upper left')\n",
    "    plt.title('Sepal Length vs Pedal Width')\n",
    "    plt.xlabel('Pedal Width')\n",
    "    plt.ylabel('Sepal Length')\n",
    "    plt.show()\n",
    "    # 画损失曲线\n",
    "    plt.plot(loss_vec, 'k-')\n",
    "    plt.title('L2 Loss per Generation')\n",
    "    plt.xlabel('Generation')\n",
    "    plt.ylabel('L2 Loss')\n",
    "    plt.show()"
   ]
  },
  {
   "cell_type": "markdown",
   "metadata": {},
   "source": [
    "## Lasso and Ridge Regression"
   ]
  },
  {
   "cell_type": "code",
   "execution_count": 164,
   "metadata": {
    "collapsed": true
   },
   "outputs": [],
   "source": [
    "import matplotlib.pyplot as plt\n",
    "import numpy as np\n",
    "import tensorflow as tf\n",
    "from tensorflow.python.framework import ops\n",
    "from sklearn import datasets\n",
    "\n",
    "ops.reset_default_graph()\n",
    "# 数据\n",
    "iris = datasets.load_iris()\n",
    "x_vals = np.array([x[3] for x in iris.data])\n",
    "y_vals = np.array([y[0] for y in iris.data])\n",
    "# 超参数\n",
    "learning_rate = 0.001\n",
    "batch_size = 50\n",
    "#占位符\n",
    "x_data = tf.placeholder(shape=[None, 1], dtype=tf.float32)\n",
    "y_target = tf.placeholder(shape=[None, 1], dtype=tf.float32)\n",
    "#变量-学习参数\n",
    "A = tf.Variable(tf.random_normal(shape=[1,1]))\n",
    "b = tf.Variable(tf.random_normal(shape=[1,1]))\n",
    "\n",
    "model_output = tf.add(tf.matmul(x_data, A), b)"
   ]
  },
  {
   "cell_type": "code",
   "execution_count": 165,
   "metadata": {
    "collapsed": true
   },
   "outputs": [],
   "source": [
    "# 损失函数(+正则化项)和优化器\n",
    "# lasso_param = tf.constant(0.9)\n",
    "# heavyside_step = tf.truediv(1., tf.add(1., tf.exp(tf.multiply(-100., tf.subtract(A, lasso_param)))))\n",
    "# regularization_param = tf.multiply(heavyside_step, 99.)\n",
    "# loss = tf.add(tf.reduce_mean(tf.square(y_target - model_output)), regularization_param)\n",
    "ridge_param = tf.constant(1.)\n",
    "ridge_loss = tf.reduce_mean(tf.square(A))\n",
    "loss = tf.expand_dims(tf.add(tf.reduce_mean(tf.square(y_target - model_output)), tf.multiply(ridge_param, ridge_loss)), 0)\n",
    "my_opt = tf.train.GradientDescentOptimizer(learning_rate)\n",
    "train_step = my_opt.minimize(loss)\n",
    "# 初始化变量\n",
    "init = tf.global_variables_initializer()"
   ]
  },
  {
   "cell_type": "code",
   "execution_count": 166,
   "metadata": {},
   "outputs": [
    {
     "name": "stdout",
     "output_type": "stream",
     "text": [
      "Step # 300 A = [[ 1.63901758]] b = [[ 1.89672434]]\n",
      "Loss = [ 7.3211937]\n",
      "Step # 600 A = [[ 1.51822531]] b = [[ 2.81664848]]\n",
      "Loss = [ 4.09058952]\n",
      "Step # 900 A = [[ 1.25540042]] b = [[ 3.44096255]]\n",
      "Loss = [ 2.8272686]\n",
      "Step # 1200 A = [[ 1.04367304]] b = [[ 3.91040349]]\n",
      "Loss = [ 1.75451982]\n",
      "Step # 1500 A = [[ 0.88185155]] b = [[ 4.26877165]]\n",
      "Loss = [ 1.17012835]\n"
     ]
    },
    {
     "data": {
      "image/png": "[encoded data removed]",
      "text/plain": [
       "<Figure size 432x288 with 1 Axes>"
      ]
     },
     "metadata": {},
     "output_type": "display_data"
    },
    {
     "data": {
      "image/png": "[encoded data removed]",
      "text/plain": [
       "<Figure size 432x288 with 1 Axes>"
      ]
     },
     "metadata": {},
     "output_type": "display_data"
    }
   ],
   "source": [
    "# 运行，执行计算图\n",
    "with tf.Session() as sess:\n",
    "    loss_vec = []\n",
    "    sess.run(init)\n",
    "    for i in range(1500):\n",
    "        rand_index = np.random.choice(len(x_vals), size=batch_size)       # 150随机挑出25个，作为一个batch\n",
    "        rand_x = np.transpose([x_vals[rand_index]])\n",
    "        rand_y = np.transpose([y_vals[rand_index]])\n",
    "        sess.run(train_step, feed_dict={x_data: rand_x, y_target: rand_y})\n",
    "        temp_loss = sess.run(loss, feed_dict={x_data: rand_x, y_target: rand_y})\n",
    "        loss_vec.append(temp_loss[0])\n",
    "        if (i+1)%300 == 0:\n",
    "            print('Step # ' + str(i+1) + ' A = ' + str(sess.run(A)) + ' b = ' + str(sess.run(b)))\n",
    "            print('Loss = ' + str(temp_loss))\n",
    "    # 画拟合曲线和散点图\n",
    "    [slope] = sess.run(A)\n",
    "    [y_intercept] = sess.run(b)\n",
    "    best_fit = []\n",
    "    for i in x_vals:\n",
    "        best_fit.append(slope*i+y_intercept)\n",
    "    plt.plot(x_vals, y_vals, 'o', label='Data Points')\n",
    "    plt.plot(x_vals, best_fit, 'r-', label='Best fit line', linewidth=3)\n",
    "    plt.legend(loc='upper left')\n",
    "    plt.title('Sepal Length vs Pedal Width')\n",
    "    plt.xlabel('Pedal Width')\n",
    "    plt.ylabel('Sepal Length')\n",
    "    plt.show()\n",
    "    # 画损失曲线\n",
    "    plt.plot(loss_vec, 'k-')\n",
    "    plt.title('Loss(Regularization) per Generation')\n",
    "    plt.xlabel('Generation')\n",
    "    plt.ylabel('Loss')\n",
    "    plt.show()"
   ]
  },
  {
   "cell_type": "markdown",
   "metadata": {},
   "source": [
    "## Elastic Net Regression "
   ]
  },
  {
   "cell_type": "code",
   "execution_count": 148,
   "metadata": {
    "collapsed": true
   },
   "outputs": [],
   "source": [
    "import matplotlib.pyplot as plt\n",
    "import numpy as np\n",
    "import tensorflow as tf\n",
    "from tensorflow.python.framework import ops\n",
    "from sklearn import datasets\n",
    "\n",
    "ops.reset_default_graph()\n",
    "# 数据\n",
    "iris = datasets.load_iris()\n",
    "x_vals = np.array([[x[1], x[2], x[3]] for x in iris.data])\n",
    "y_vals = np.array([y[0] for y in iris.data])\n",
    "# 超参数\n",
    "learning_rate = 0.001\n",
    "batch_size = 50\n",
    "#占位符\n",
    "x_data = tf.placeholder(shape=[None, 3], dtype=tf.float32)\n",
    "y_target = tf.placeholder(shape=[None, 1], dtype=tf.float32)\n",
    "#变量-学习参数\n",
    "A = tf.Variable(tf.random_normal(shape=[3,1]))\n",
    "b = tf.Variable(tf.random_normal(shape=[1,1]))\n",
    "\n",
    "model_output = tf.add(tf.matmul(x_data, A), b)"
   ]
  },
  {
   "cell_type": "code",
   "execution_count": 149,
   "metadata": {
    "collapsed": true
   },
   "outputs": [],
   "source": [
    "elastic_param1 = tf.constant(1.)\n",
    "elastic_param2 = tf.constant(1.)\n",
    "l1_a_loss = tf.reduce_mean(tf.abs(A))\n",
    "l2_a_loss = tf.reduce_mean(tf.square(A))\n",
    "e1_term = tf.multiply(elastic_param1, l1_a_loss)\n",
    "e2_term = tf.multiply(elastic_param2, l2_a_loss)\n",
    "loss = tf.expand_dims(tf.add(tf.add(tf.reduce_mean(tf.square(y_target - model_output)), e1_term), e2_term), 0)\n",
    "my_opt = tf.train.GradientDescentOptimizer(learning_rate)\n",
    "train_step = my_opt.minimize(loss)\n",
    "# 初始化变量\n",
    "init = tf.global_variables_initializer()"
   ]
  },
  {
   "cell_type": "code",
   "execution_count": 155,
   "metadata": {},
   "outputs": [
    {
     "name": "stdout",
     "output_type": "stream",
     "text": [
      "Step # 250 A = [[ 0.80842412]\n",
      " [ 0.61371338]\n",
      " [ 0.43397573]] b = [[ 0.27317223]]\n",
      "Loss = [ 1.51550496]\n",
      "Step # 500 A = [[ 0.9405427 ]\n",
      " [ 0.54271638]\n",
      " [ 0.27363154]] b = [[ 0.38926274]]\n",
      "Loss = [ 1.24933076]\n",
      "Step # 750 A = [[ 0.97108257]\n",
      " [ 0.53495759]\n",
      " [ 0.16876879]] b = [[ 0.48246419]]\n",
      "Loss = [ 1.24830818]\n",
      "Step # 1000 A = [[ 0.96656483]\n",
      " [ 0.54910308]\n",
      " [ 0.09368915]] b = [[ 0.56621349]]\n",
      "Loss = [ 1.11517763]\n"
     ]
    },
    {
     "data": {
      "image/png": "[encoded data removed]",
      "text/plain": [
       "<Figure size 432x288 with 1 Axes>"
      ]
     },
     "metadata": {},
     "output_type": "display_data"
    }
   ],
   "source": [
    "# 运行，执行计算图\n",
    "with tf.Session() as sess:\n",
    "    loss_vec = []\n",
    "    sess.run(init)\n",
    "    for i in range(1000):\n",
    "        rand_index = np.random.choice(len(x_vals), size=batch_size)       # 150随机挑出50个，作为一个batch\n",
    "        rand_x = x_vals[rand_index]\n",
    "        rand_y = np.transpose([y_vals[rand_index]])\n",
    "        sess.run(train_step, feed_dict={x_data: rand_x, y_target: rand_y})\n",
    "        temp_loss = sess.run(loss, feed_dict={x_data: rand_x, y_target: rand_y})\n",
    "        loss_vec.append(temp_loss[0])\n",
    "        if (i+1)%250 == 0:\n",
    "            print('Step # ' + str(i+1) + ' A = ' + str(sess.run(A)) + ' b = ' + str(sess.run(b)))\n",
    "            print('Loss = ' + str(temp_loss))\n",
    "    # 画损失曲线\n",
    "    plt.plot(loss_vec, 'k-')\n",
    "    plt.title('Loss(Regularization) per Generation')\n",
    "    plt.xlabel('Generation')\n",
    "    plt.ylabel('Loss')\n",
    "    plt.show()"
   ]
  },
  {
   "cell_type": "markdown",
   "metadata": {
    "collapsed": true
   },
   "source": [
    "# Logistic Regression"
   ]
  },
  {
   "cell_type": "code",
   "execution_count": 1,
   "metadata": {
    "collapsed": true
   },
   "outputs": [],
   "source": [
    "import matplotlib.pyplot as plt\n",
    "import numpy as np\n",
    "import tensorflow as tf\n",
    "import requests\n",
    "from sklearn import datasets\n",
    "from sklearn.preprocessing import normalize\n",
    "from tensorflow.python.framework import ops"
   ]
  },
  {
   "cell_type": "code",
   "execution_count": 2,
   "metadata": {
    "collapsed": true
   },
   "outputs": [],
   "source": [
    "ops.reset_default_graph()"
   ]
  },
  {
   "cell_type": "code",
   "execution_count": 3,
   "metadata": {
    "collapsed": true
   },
   "outputs": [],
   "source": [
    "birthdata_url = 'https://raw.githubusercontent.com/h2oai/h2o-2/master/smalldata/logreg/umass_statdata/lowbwt.dat'   #github raw\n",
    "birth_file = requests.get(birthdata_url)\n",
    "birth_data = birth_file.text.split('\\n')[3:-2]"
   ]
  },
  {
   "cell_type": "code",
   "execution_count": 4,
   "metadata": {},
   "outputs": [
    {
     "data": {
      "text/plain": [
       "['  ID    LOW    AGE    LWT    RACE    SMOKE    PTL    HT    UI    FTV     BWT',\n",
       " '  85     0      19    182      2       0       0      0     1     0     2523',\n",
       " '  86     0      33    155      3       0       0      0     0     3     2551',\n",
       " '  87     0      20    105      1       1       0      0     0     1     2557',\n",
       " '  88     0      21    108      1       1       0      0     1     2     2594',\n",
       " '  89     0      18    107      1       1       0      0     1     0     2600',\n",
       " '  91     0      21    124      3       0       0      0     0     0     2622',\n",
       " '  92     0      22    118      1       0       0      0     0     1     2637',\n",
       " '  93     0      17    103      3       0       0      0     0     1     2637',\n",
       " '  94     0      29    123      1       1       0      0     0     1     2663',\n",
       " '  95     0      26    113      1       1       0      0     0     0     2665',\n",
       " '  96     0      19     95      3       0       0      0     0     0     2722',\n",
       " '  97     0      19    150      3       0       0      0     0     1     2733',\n",
       " '  98     0      22     95      3       0       0      1     0     0     2750',\n",
       " '  99     0      30    107      3       0       1      0     1     2     2750',\n",
       " ' 100     0      18    100      1       1       0      0     0     0     2769',\n",
       " ' 101     0      18    100      1       1       0      0     0     0     2769',\n",
       " ' 102     0      15     98      2       0       0      0     0     0     2778',\n",
       " ' 103     0      25    118      1       1       0      0     0     3     2782',\n",
       " ' 104     0      20    120      3       0       0      0     1     0     2807',\n",
       " ' 105     0      28    120      1       1       0      0     0     1     2821',\n",
       " ' 106     0      32    121      3       0       0      0     0     2     2835',\n",
       " ' 107     0      31    100      1       0       0      0     1     3     2835',\n",
       " ' 108     0      36    202      1       0       0      0     0     1     2836',\n",
       " ' 109     0      28    120      3       0       0      0     0     0     2863',\n",
       " ' 111     0      25    120      3       0       0      0     1     2     2877',\n",
       " ' 112     0      28    167      1       0       0      0     0     0     2877',\n",
       " ' 113     0      17    122      1       1       0      0     0     0     2906',\n",
       " ' 114     0      29    150      1       0       0      0     0     2     2920',\n",
       " ' 115     0      26    168      2       1       0      0     0     0     2920',\n",
       " ' 116     0      17    113      2       0       0      0     0     1     2920',\n",
       " ' 117     0      17    113      2       0       0      0     0     1     2920',\n",
       " ' 118     0      24     90      1       1       1      0     0     1     2948',\n",
       " ' 119     0      35    121      2       1       1      0     0     1     2948',\n",
       " ' 120     0      25    155      1       0       0      0     0     1     2977',\n",
       " ' 121     0      25    125      2       0       0      0     0     0     2977',\n",
       " ' 123     0      29    140      1       1       0      0     0     2     2977',\n",
       " ' 124     0      19    138      1       1       0      0     0     2     2977',\n",
       " ' 125     0      27    124      1       1       0      0     0     0     2992',\n",
       " ' 126     0      31    215      1       1       0      0     0     2     3005',\n",
       " ' 127     0      33    109      1       1       0      0     0     1     3033',\n",
       " ' 128     0      21    185      2       1       0      0     0     2     3042',\n",
       " ' 129     0      19    189      1       0       0      0     0     2     3062',\n",
       " ' 130     0      23    130      2       0       0      0     0     1     3062',\n",
       " ' 131     0      21    160      1       0       0      0     0     0     3062',\n",
       " ' 132     0      18     90      1       1       0      0     1     0     3076',\n",
       " ' 133     0      18     90      1       1       0      0     1     0     3076',\n",
       " ' 134     0      32    132      1       0       0      0     0     4     3080',\n",
       " ' 135     0      19    132      3       0       0      0     0     0     3090',\n",
       " ' 136     0      24    115      1       0       0      0     0     2     3090',\n",
       " ' 137     0      22     85      3       1       0      0     0     0     3090',\n",
       " ' 138     0      22    120      1       0       0      1     0     1     3100',\n",
       " ' 139     0      23    128      3       0       0      0     0     0     3104',\n",
       " ' 140     0      22    130      1       1       0      0     0     0     3132',\n",
       " ' 141     0      30     95      1       1       0      0     0     2     3147',\n",
       " ' 142     0      19    115      3       0       0      0     0     0     3175',\n",
       " ' 143     0      16    110      3       0       0      0     0     0     3175',\n",
       " ' 144     0      21    110      3       1       0      0     1     0     3203',\n",
       " ' 145     0      30    153      3       0       0      0     0     0     3203',\n",
       " ' 146     0      20    103      3       0       0      0     0     0     3203',\n",
       " ' 147     0      17    119      3       0       0      0     0     0     3225',\n",
       " ' 148     0      17    119      3       0       0      0     0     0     3225',\n",
       " ' 149     0      23    119      3       0       0      0     0     2     3232',\n",
       " ' 150     0      24    110      3       0       0      0     0     0     3232',\n",
       " ' 151     0      28    140      1       0       0      0     0     0     3234',\n",
       " ' 154     0      26    133      3       1       2      0     0     0     3260',\n",
       " ' 155     0      20    169      3       0       1      0     1     1     3274',\n",
       " ' 156     0      24    115      3       0       0      0     0     2     3274',\n",
       " ' 159     0      28    250      3       1       0      0     0     6     3303',\n",
       " ' 160     0      20    141      1       0       2      0     1     1     3317',\n",
       " ' 161     0      22    158      2       0       1      0     0     2     3317',\n",
       " ' 162     0      22    112      1       1       2      0     0     0     3317',\n",
       " ' 163     0      31    150      3       1       0      0     0     2     3321',\n",
       " ' 164     0      23    115      3       1       0      0     0     1     3331',\n",
       " ' 166     0      16    112      2       0       0      0     0     0     3374',\n",
       " ' 167     0      16    135      1       1       0      0     0     0     3374',\n",
       " ' 168     0      18    229      2       0       0      0     0     0     3402',\n",
       " ' 169     0      25    140      1       0       0      0     0     1     3416',\n",
       " ' 170     0      32    134      1       1       1      0     0     4     3430',\n",
       " ' 172     0      20    121      2       1       0      0     0     0     3444',\n",
       " ' 173     0      23    190      1       0       0      0     0     0     3459',\n",
       " ' 174     0      22    131      1       0       0      0     0     1     3460',\n",
       " ' 175     0      32    170      1       0       0      0     0     0     3473',\n",
       " ' 176     0      30    110      3       0       0      0     0     0     3475',\n",
       " ' 177     0      20    127      3       0       0      0     0     0     3487',\n",
       " ' 179     0      23    123      3       0       0      0     0     0     3544',\n",
       " ' 180     0      17    120      3       1       0      0     0     0     3572',\n",
       " ' 181     0      19    105      3       0       0      0     0     0     3572',\n",
       " ' 182     0      23    130      1       0       0      0     0     0     3586',\n",
       " ' 183     0      36    175      1       0       0      0     0     0     3600',\n",
       " ' 184     0      22    125      1       0       0      0     0     1     3614',\n",
       " ' 185     0      24    133      1       0       0      0     0     0     3614',\n",
       " ' 186     0      21    134      3       0       0      0     0     2     3629',\n",
       " ' 187     0      19    235      1       1       0      1     0     0     3629',\n",
       " ' 188     0      25     95      1       1       3      0     1     0     3637',\n",
       " ' 189     0      16    135      1       1       0      0     0     0     3643',\n",
       " ' 190     0      29    135      1       0       0      0     0     1     3651',\n",
       " ' 191     0      29    154      1       0       0      0     0     1     3651',\n",
       " ' 192     0      19    147      1       1       0      0     0     0     3651',\n",
       " ' 193     0      19    147      1       1       0      0     0     0     3651',\n",
       " ' 195     0      30    137      1       0       0      0     0     1     3699',\n",
       " ' 196     0      24    110      1       0       0      0     0     1     3728',\n",
       " ' 197     0      19    184      1       1       0      1     0     0     3756',\n",
       " ' 199     0      24    110      3       0       1      0     0     0     3770',\n",
       " ' 200     0      23    110      1       0       0      0     0     1     3770',\n",
       " ' 201     0      20    120      3       0       0      0     0     0     3770',\n",
       " ' 202     0      25    241      2       0       0      1     0     0     3790',\n",
       " ' 203     0      30    112      1       0       0      0     0     1     3799',\n",
       " ' 204     0      22    169      1       0       0      0     0     0     3827',\n",
       " ' 205     0      18    120      1       1       0      0     0     2     3856',\n",
       " ' 206     0      16    170      2       0       0      0     0     4     3860',\n",
       " ' 207     0      32    186      1       0       0      0     0     2     3860',\n",
       " ' 208     0      18    120      3       0       0      0     0     1     3884',\n",
       " ' 209     0      29    130      1       1       0      0     0     2     3884',\n",
       " ' 210     0      33    117      1       0       0      0     1     1     3912',\n",
       " ' 211     0      20    170      1       1       0      0     0     0     3940',\n",
       " ' 212     0      28    134      3       0       0      0     0     1     3941',\n",
       " ' 213     0      14    135      1       0       0      0     0     0     3941',\n",
       " ' 214     0      28    130      3       0       0      0     0     0     3969',\n",
       " ' 215     0      25    120      1       0       0      0     0     2     3983',\n",
       " ' 216     0      16     95      3       0       0      0     0     1     3997',\n",
       " ' 217     0      20    158      1       0       0      0     0     1     3997',\n",
       " ' 218     0      26    160      3       0       0      0     0     0     4054',\n",
       " ' 219     0      21    115      1       0       0      0     0     1     4054',\n",
       " ' 220     0      22    129      1       0       0      0     0     0     4111',\n",
       " ' 221     0      25    130      1       0       0      0     0     2     4153',\n",
       " ' 222     0      31    120      1       0       0      0     0     2     4167',\n",
       " ' 223     0      35    170      1       0       1      0     0     1     4174',\n",
       " ' 224     0      19    120      1       1       0      0     0     0     4238',\n",
       " ' 225     0      24    116      1       0       0      0     0     1     4593',\n",
       " ' 226     0      45    123      1       0       0      0     0     1     4990',\n",
       " '   4     1      28    120      3       1       1      0     1     0      709',\n",
       " '  10     1      29    130      1       0       0      0     1     2     1021',\n",
       " '  11     1      34    187      2       1       0      1     0     0     1135',\n",
       " '  13     1      25    105      3       0       1      1     0     0     1330',\n",
       " '  15     1      25     85      3       0       0      0     1     0     1474',\n",
       " '  16     1      27    150      3       0       0      0     0     0     1588',\n",
       " '  17     1      23     97      3       0       0      0     1     1     1588',\n",
       " '  18     1      24    128      2       0       1      0     0     1     1701',\n",
       " '  19     1      24    132      3       0       0      1     0     0     1729',\n",
       " '  20     1      21    165      1       1       0      1     0     1     1790',\n",
       " '  22     1      32    105      1       1       0      0     0     0     1818',\n",
       " '  23     1      19     91      1       1       2      0     1     0     1885',\n",
       " '  24     1      25    115      3       0       0      0     0     0     1893',\n",
       " '  25     1      16    130      3       0       0      0     0     1     1899',\n",
       " '  26     1      25     92      1       1       0      0     0     0     1928',\n",
       " '  27     1      20    150      1       1       0      0     0     2     1928',\n",
       " '  28     1      21    200      2       0       0      0     1     2     1928',\n",
       " '  29     1      24    155      1       1       1      0     0     0     1936',\n",
       " '  30     1      21    103      3       0       0      0     0     0     1970',\n",
       " '  31     1      20    125      3       0       0      0     1     0     2055',\n",
       " '  32     1      25     89      3       0       2      0     0     1     2055',\n",
       " '  33     1      19    102      1       0       0      0     0     2     2082',\n",
       " '  34     1      19    112      1       1       0      0     1     0     2084',\n",
       " '  35     1      26    117      1       1       1      0     0     0     2084',\n",
       " '  36     1      24    138      1       0       0      0     0     0     2100',\n",
       " '  37     1      17    130      3       1       1      0     1     0     2125',\n",
       " '  40     1      20    120      2       1       0      0     0     3     2126',\n",
       " '  42     1      22    130      1       1       1      0     1     1     2187',\n",
       " '  43     1      27    130      2       0       0      0     1     0     2187',\n",
       " '  44     1      20     80      3       1       0      0     1     0     2211',\n",
       " '  45     1      17    110      1       1       0      0     0     0     2225',\n",
       " '  46     1      25    105      3       0       1      0     0     1     2240',\n",
       " '  47     1      20    109      3       0       0      0     0     0     2240',\n",
       " '  49     1      18    148      3       0       0      0     0     0     2282',\n",
       " '  50     1      18    110      2       1       1      0     0     0     2296',\n",
       " '  51     1      20    121      1       1       1      0     1     0     2296',\n",
       " '  52     1      21    100      3       0       1      0     0     4     2301',\n",
       " '  54     1      26     96      3       0       0      0     0     0     2325',\n",
       " '  56     1      31    102      1       1       1      0     0     1     2353',\n",
       " '  57     1      15    110      1       0       0      0     0     0     2353',\n",
       " '  59     1      23    187      2       1       0      0     0     1     2367',\n",
       " '  60     1      20    122      2       1       0      0     0     0     2381',\n",
       " '  61     1      24    105      2       1       0      0     0     0     2381',\n",
       " '  62     1      15    115      3       0       0      0     1     0     2381',\n",
       " '  63     1      23    120      3       0       0      0     0     0     2395',\n",
       " '  65     1      30    142      1       1       1      0     0     0     2410',\n",
       " '  67     1      22    130      1       1       0      0     0     1     2410',\n",
       " '  68     1      17    120      1       1       0      0     0     3     2414',\n",
       " '  69     1      23    110      1       1       1      0     0     0     2424',\n",
       " '  71     1      17    120      2       0       0      0     0     2     2438',\n",
       " '  75     1      26    154      3       0       1      1     0     1     2442',\n",
       " '  76     1      20    105      3       0       0      0     0     3     2450',\n",
       " '  77     1      26    190      1       1       0      0     0     0     2466',\n",
       " '  78     1      14    101      3       1       1      0     0     0     2466',\n",
       " '  79     1      28     95      1       1       0      0     0     2     2466',\n",
       " '  81     1      14    100      3       0       0      0     0     2     2495',\n",
       " '  82     1      23     94      3       1       0      0     0     0     2495',\n",
       " '  83     1      17    142      2       0       0      1     0     0     2495',\n",
       " '  84     1      21    130      1       1       0      1     0     3     2495']"
      ]
     },
     "execution_count": 4,
     "metadata": {},
     "output_type": "execute_result"
    }
   ],
   "source": [
    "birth_data"
   ]
  },
  {
   "cell_type": "code",
   "execution_count": 5,
   "metadata": {},
   "outputs": [
    {
     "data": {
      "text/plain": [
       "['ID', 'LOW', 'AGE', 'LWT', 'RACE', 'SMOKE', 'PTL', 'HT', 'UI', 'FTV', 'BWT']"
      ]
     },
     "execution_count": 5,
     "metadata": {},
     "output_type": "execute_result"
    }
   ],
   "source": [
    "birth_header = [x for x in birth_data[0].split(' ') if len(x) >= 1]\n",
    "birth_header"
   ]
  },
  {
   "cell_type": "code",
   "execution_count": 6,
   "metadata": {},
   "outputs": [
    {
     "data": {
      "text/plain": [
       "[[85.0, 0.0, 19.0, 182.0, 2.0, 0.0, 0.0, 0.0, 1.0, 0.0, 2523.0],\n",
       " [86.0, 0.0, 33.0, 155.0, 3.0, 0.0, 0.0, 0.0, 0.0, 3.0, 2551.0],\n",
       " [87.0, 0.0, 20.0, 105.0, 1.0, 1.0, 0.0, 0.0, 0.0, 1.0, 2557.0],\n",
       " [88.0, 0.0, 21.0, 108.0, 1.0, 1.0, 0.0, 0.0, 1.0, 2.0, 2594.0],\n",
       " [89.0, 0.0, 18.0, 107.0, 1.0, 1.0, 0.0, 0.0, 1.0, 0.0, 2600.0],\n",
       " [91.0, 0.0, 21.0, 124.0, 3.0, 0.0, 0.0, 0.0, 0.0, 0.0, 2622.0],\n",
       " [92.0, 0.0, 22.0, 118.0, 1.0, 0.0, 0.0, 0.0, 0.0, 1.0, 2637.0],\n",
       " [93.0, 0.0, 17.0, 103.0, 3.0, 0.0, 0.0, 0.0, 0.0, 1.0, 2637.0],\n",
       " [94.0, 0.0, 29.0, 123.0, 1.0, 1.0, 0.0, 0.0, 0.0, 1.0, 2663.0],\n",
       " [95.0, 0.0, 26.0, 113.0, 1.0, 1.0, 0.0, 0.0, 0.0, 0.0, 2665.0],\n",
       " [96.0, 0.0, 19.0, 95.0, 3.0, 0.0, 0.0, 0.0, 0.0, 0.0, 2722.0],\n",
       " [97.0, 0.0, 19.0, 150.0, 3.0, 0.0, 0.0, 0.0, 0.0, 1.0, 2733.0],\n",
       " [98.0, 0.0, 22.0, 95.0, 3.0, 0.0, 0.0, 1.0, 0.0, 0.0, 2750.0],\n",
       " [99.0, 0.0, 30.0, 107.0, 3.0, 0.0, 1.0, 0.0, 1.0, 2.0, 2750.0],\n",
       " [100.0, 0.0, 18.0, 100.0, 1.0, 1.0, 0.0, 0.0, 0.0, 0.0, 2769.0],\n",
       " [101.0, 0.0, 18.0, 100.0, 1.0, 1.0, 0.0, 0.0, 0.0, 0.0, 2769.0],\n",
       " [102.0, 0.0, 15.0, 98.0, 2.0, 0.0, 0.0, 0.0, 0.0, 0.0, 2778.0],\n",
       " [103.0, 0.0, 25.0, 118.0, 1.0, 1.0, 0.0, 0.0, 0.0, 3.0, 2782.0],\n",
       " [104.0, 0.0, 20.0, 120.0, 3.0, 0.0, 0.0, 0.0, 1.0, 0.0, 2807.0],\n",
       " [105.0, 0.0, 28.0, 120.0, 1.0, 1.0, 0.0, 0.0, 0.0, 1.0, 2821.0],\n",
       " [106.0, 0.0, 32.0, 121.0, 3.0, 0.0, 0.0, 0.0, 0.0, 2.0, 2835.0],\n",
       " [107.0, 0.0, 31.0, 100.0, 1.0, 0.0, 0.0, 0.0, 1.0, 3.0, 2835.0],\n",
       " [108.0, 0.0, 36.0, 202.0, 1.0, 0.0, 0.0, 0.0, 0.0, 1.0, 2836.0],\n",
       " [109.0, 0.0, 28.0, 120.0, 3.0, 0.0, 0.0, 0.0, 0.0, 0.0, 2863.0],\n",
       " [111.0, 0.0, 25.0, 120.0, 3.0, 0.0, 0.0, 0.0, 1.0, 2.0, 2877.0],\n",
       " [112.0, 0.0, 28.0, 167.0, 1.0, 0.0, 0.0, 0.0, 0.0, 0.0, 2877.0],\n",
       " [113.0, 0.0, 17.0, 122.0, 1.0, 1.0, 0.0, 0.0, 0.0, 0.0, 2906.0],\n",
       " [114.0, 0.0, 29.0, 150.0, 1.0, 0.0, 0.0, 0.0, 0.0, 2.0, 2920.0],\n",
       " [115.0, 0.0, 26.0, 168.0, 2.0, 1.0, 0.0, 0.0, 0.0, 0.0, 2920.0],\n",
       " [116.0, 0.0, 17.0, 113.0, 2.0, 0.0, 0.0, 0.0, 0.0, 1.0, 2920.0],\n",
       " [117.0, 0.0, 17.0, 113.0, 2.0, 0.0, 0.0, 0.0, 0.0, 1.0, 2920.0],\n",
       " [118.0, 0.0, 24.0, 90.0, 1.0, 1.0, 1.0, 0.0, 0.0, 1.0, 2948.0],\n",
       " [119.0, 0.0, 35.0, 121.0, 2.0, 1.0, 1.0, 0.0, 0.0, 1.0, 2948.0],\n",
       " [120.0, 0.0, 25.0, 155.0, 1.0, 0.0, 0.0, 0.0, 0.0, 1.0, 2977.0],\n",
       " [121.0, 0.0, 25.0, 125.0, 2.0, 0.0, 0.0, 0.0, 0.0, 0.0, 2977.0],\n",
       " [123.0, 0.0, 29.0, 140.0, 1.0, 1.0, 0.0, 0.0, 0.0, 2.0, 2977.0],\n",
       " [124.0, 0.0, 19.0, 138.0, 1.0, 1.0, 0.0, 0.0, 0.0, 2.0, 2977.0],\n",
       " [125.0, 0.0, 27.0, 124.0, 1.0, 1.0, 0.0, 0.0, 0.0, 0.0, 2992.0],\n",
       " [126.0, 0.0, 31.0, 215.0, 1.0, 1.0, 0.0, 0.0, 0.0, 2.0, 3005.0],\n",
       " [127.0, 0.0, 33.0, 109.0, 1.0, 1.0, 0.0, 0.0, 0.0, 1.0, 3033.0],\n",
       " [128.0, 0.0, 21.0, 185.0, 2.0, 1.0, 0.0, 0.0, 0.0, 2.0, 3042.0],\n",
       " [129.0, 0.0, 19.0, 189.0, 1.0, 0.0, 0.0, 0.0, 0.0, 2.0, 3062.0],\n",
       " [130.0, 0.0, 23.0, 130.0, 2.0, 0.0, 0.0, 0.0, 0.0, 1.0, 3062.0],\n",
       " [131.0, 0.0, 21.0, 160.0, 1.0, 0.0, 0.0, 0.0, 0.0, 0.0, 3062.0],\n",
       " [132.0, 0.0, 18.0, 90.0, 1.0, 1.0, 0.0, 0.0, 1.0, 0.0, 3076.0],\n",
       " [133.0, 0.0, 18.0, 90.0, 1.0, 1.0, 0.0, 0.0, 1.0, 0.0, 3076.0],\n",
       " [134.0, 0.0, 32.0, 132.0, 1.0, 0.0, 0.0, 0.0, 0.0, 4.0, 3080.0],\n",
       " [135.0, 0.0, 19.0, 132.0, 3.0, 0.0, 0.0, 0.0, 0.0, 0.0, 3090.0],\n",
       " [136.0, 0.0, 24.0, 115.0, 1.0, 0.0, 0.0, 0.0, 0.0, 2.0, 3090.0],\n",
       " [137.0, 0.0, 22.0, 85.0, 3.0, 1.0, 0.0, 0.0, 0.0, 0.0, 3090.0],\n",
       " [138.0, 0.0, 22.0, 120.0, 1.0, 0.0, 0.0, 1.0, 0.0, 1.0, 3100.0],\n",
       " [139.0, 0.0, 23.0, 128.0, 3.0, 0.0, 0.0, 0.0, 0.0, 0.0, 3104.0],\n",
       " [140.0, 0.0, 22.0, 130.0, 1.0, 1.0, 0.0, 0.0, 0.0, 0.0, 3132.0],\n",
       " [141.0, 0.0, 30.0, 95.0, 1.0, 1.0, 0.0, 0.0, 0.0, 2.0, 3147.0],\n",
       " [142.0, 0.0, 19.0, 115.0, 3.0, 0.0, 0.0, 0.0, 0.0, 0.0, 3175.0],\n",
       " [143.0, 0.0, 16.0, 110.0, 3.0, 0.0, 0.0, 0.0, 0.0, 0.0, 3175.0],\n",
       " [144.0, 0.0, 21.0, 110.0, 3.0, 1.0, 0.0, 0.0, 1.0, 0.0, 3203.0],\n",
       " [145.0, 0.0, 30.0, 153.0, 3.0, 0.0, 0.0, 0.0, 0.0, 0.0, 3203.0],\n",
       " [146.0, 0.0, 20.0, 103.0, 3.0, 0.0, 0.0, 0.0, 0.0, 0.0, 3203.0],\n",
       " [147.0, 0.0, 17.0, 119.0, 3.0, 0.0, 0.0, 0.0, 0.0, 0.0, 3225.0],\n",
       " [148.0, 0.0, 17.0, 119.0, 3.0, 0.0, 0.0, 0.0, 0.0, 0.0, 3225.0],\n",
       " [149.0, 0.0, 23.0, 119.0, 3.0, 0.0, 0.0, 0.0, 0.0, 2.0, 3232.0],\n",
       " [150.0, 0.0, 24.0, 110.0, 3.0, 0.0, 0.0, 0.0, 0.0, 0.0, 3232.0],\n",
       " [151.0, 0.0, 28.0, 140.0, 1.0, 0.0, 0.0, 0.0, 0.0, 0.0, 3234.0],\n",
       " [154.0, 0.0, 26.0, 133.0, 3.0, 1.0, 2.0, 0.0, 0.0, 0.0, 3260.0],\n",
       " [155.0, 0.0, 20.0, 169.0, 3.0, 0.0, 1.0, 0.0, 1.0, 1.0, 3274.0],\n",
       " [156.0, 0.0, 24.0, 115.0, 3.0, 0.0, 0.0, 0.0, 0.0, 2.0, 3274.0],\n",
       " [159.0, 0.0, 28.0, 250.0, 3.0, 1.0, 0.0, 0.0, 0.0, 6.0, 3303.0],\n",
       " [160.0, 0.0, 20.0, 141.0, 1.0, 0.0, 2.0, 0.0, 1.0, 1.0, 3317.0],\n",
       " [161.0, 0.0, 22.0, 158.0, 2.0, 0.0, 1.0, 0.0, 0.0, 2.0, 3317.0],\n",
       " [162.0, 0.0, 22.0, 112.0, 1.0, 1.0, 2.0, 0.0, 0.0, 0.0, 3317.0],\n",
       " [163.0, 0.0, 31.0, 150.0, 3.0, 1.0, 0.0, 0.0, 0.0, 2.0, 3321.0],\n",
       " [164.0, 0.0, 23.0, 115.0, 3.0, 1.0, 0.0, 0.0, 0.0, 1.0, 3331.0],\n",
       " [166.0, 0.0, 16.0, 112.0, 2.0, 0.0, 0.0, 0.0, 0.0, 0.0, 3374.0],\n",
       " [167.0, 0.0, 16.0, 135.0, 1.0, 1.0, 0.0, 0.0, 0.0, 0.0, 3374.0],\n",
       " [168.0, 0.0, 18.0, 229.0, 2.0, 0.0, 0.0, 0.0, 0.0, 0.0, 3402.0],\n",
       " [169.0, 0.0, 25.0, 140.0, 1.0, 0.0, 0.0, 0.0, 0.0, 1.0, 3416.0],\n",
       " [170.0, 0.0, 32.0, 134.0, 1.0, 1.0, 1.0, 0.0, 0.0, 4.0, 3430.0],\n",
       " [172.0, 0.0, 20.0, 121.0, 2.0, 1.0, 0.0, 0.0, 0.0, 0.0, 3444.0],\n",
       " [173.0, 0.0, 23.0, 190.0, 1.0, 0.0, 0.0, 0.0, 0.0, 0.0, 3459.0],\n",
       " [174.0, 0.0, 22.0, 131.0, 1.0, 0.0, 0.0, 0.0, 0.0, 1.0, 3460.0],\n",
       " [175.0, 0.0, 32.0, 170.0, 1.0, 0.0, 0.0, 0.0, 0.0, 0.0, 3473.0],\n",
       " [176.0, 0.0, 30.0, 110.0, 3.0, 0.0, 0.0, 0.0, 0.0, 0.0, 3475.0],\n",
       " [177.0, 0.0, 20.0, 127.0, 3.0, 0.0, 0.0, 0.0, 0.0, 0.0, 3487.0],\n",
       " [179.0, 0.0, 23.0, 123.0, 3.0, 0.0, 0.0, 0.0, 0.0, 0.0, 3544.0],\n",
       " [180.0, 0.0, 17.0, 120.0, 3.0, 1.0, 0.0, 0.0, 0.0, 0.0, 3572.0],\n",
       " [181.0, 0.0, 19.0, 105.0, 3.0, 0.0, 0.0, 0.0, 0.0, 0.0, 3572.0],\n",
       " [182.0, 0.0, 23.0, 130.0, 1.0, 0.0, 0.0, 0.0, 0.0, 0.0, 3586.0],\n",
       " [183.0, 0.0, 36.0, 175.0, 1.0, 0.0, 0.0, 0.0, 0.0, 0.0, 3600.0],\n",
       " [184.0, 0.0, 22.0, 125.0, 1.0, 0.0, 0.0, 0.0, 0.0, 1.0, 3614.0],\n",
       " [185.0, 0.0, 24.0, 133.0, 1.0, 0.0, 0.0, 0.0, 0.0, 0.0, 3614.0],\n",
       " [186.0, 0.0, 21.0, 134.0, 3.0, 0.0, 0.0, 0.0, 0.0, 2.0, 3629.0],\n",
       " [187.0, 0.0, 19.0, 235.0, 1.0, 1.0, 0.0, 1.0, 0.0, 0.0, 3629.0],\n",
       " [188.0, 0.0, 25.0, 95.0, 1.0, 1.0, 3.0, 0.0, 1.0, 0.0, 3637.0],\n",
       " [189.0, 0.0, 16.0, 135.0, 1.0, 1.0, 0.0, 0.0, 0.0, 0.0, 3643.0],\n",
       " [190.0, 0.0, 29.0, 135.0, 1.0, 0.0, 0.0, 0.0, 0.0, 1.0, 3651.0],\n",
       " [191.0, 0.0, 29.0, 154.0, 1.0, 0.0, 0.0, 0.0, 0.0, 1.0, 3651.0],\n",
       " [192.0, 0.0, 19.0, 147.0, 1.0, 1.0, 0.0, 0.0, 0.0, 0.0, 3651.0],\n",
       " [193.0, 0.0, 19.0, 147.0, 1.0, 1.0, 0.0, 0.0, 0.0, 0.0, 3651.0],\n",
       " [195.0, 0.0, 30.0, 137.0, 1.0, 0.0, 0.0, 0.0, 0.0, 1.0, 3699.0],\n",
       " [196.0, 0.0, 24.0, 110.0, 1.0, 0.0, 0.0, 0.0, 0.0, 1.0, 3728.0],\n",
       " [197.0, 0.0, 19.0, 184.0, 1.0, 1.0, 0.0, 1.0, 0.0, 0.0, 3756.0],\n",
       " [199.0, 0.0, 24.0, 110.0, 3.0, 0.0, 1.0, 0.0, 0.0, 0.0, 3770.0],\n",
       " [200.0, 0.0, 23.0, 110.0, 1.0, 0.0, 0.0, 0.0, 0.0, 1.0, 3770.0],\n",
       " [201.0, 0.0, 20.0, 120.0, 3.0, 0.0, 0.0, 0.0, 0.0, 0.0, 3770.0],\n",
       " [202.0, 0.0, 25.0, 241.0, 2.0, 0.0, 0.0, 1.0, 0.0, 0.0, 3790.0],\n",
       " [203.0, 0.0, 30.0, 112.0, 1.0, 0.0, 0.0, 0.0, 0.0, 1.0, 3799.0],\n",
       " [204.0, 0.0, 22.0, 169.0, 1.0, 0.0, 0.0, 0.0, 0.0, 0.0, 3827.0],\n",
       " [205.0, 0.0, 18.0, 120.0, 1.0, 1.0, 0.0, 0.0, 0.0, 2.0, 3856.0],\n",
       " [206.0, 0.0, 16.0, 170.0, 2.0, 0.0, 0.0, 0.0, 0.0, 4.0, 3860.0],\n",
       " [207.0, 0.0, 32.0, 186.0, 1.0, 0.0, 0.0, 0.0, 0.0, 2.0, 3860.0],\n",
       " [208.0, 0.0, 18.0, 120.0, 3.0, 0.0, 0.0, 0.0, 0.0, 1.0, 3884.0],\n",
       " [209.0, 0.0, 29.0, 130.0, 1.0, 1.0, 0.0, 0.0, 0.0, 2.0, 3884.0],\n",
       " [210.0, 0.0, 33.0, 117.0, 1.0, 0.0, 0.0, 0.0, 1.0, 1.0, 3912.0],\n",
       " [211.0, 0.0, 20.0, 170.0, 1.0, 1.0, 0.0, 0.0, 0.0, 0.0, 3940.0],\n",
       " [212.0, 0.0, 28.0, 134.0, 3.0, 0.0, 0.0, 0.0, 0.0, 1.0, 3941.0],\n",
       " [213.0, 0.0, 14.0, 135.0, 1.0, 0.0, 0.0, 0.0, 0.0, 0.0, 3941.0],\n",
       " [214.0, 0.0, 28.0, 130.0, 3.0, 0.0, 0.0, 0.0, 0.0, 0.0, 3969.0],\n",
       " [215.0, 0.0, 25.0, 120.0, 1.0, 0.0, 0.0, 0.0, 0.0, 2.0, 3983.0],\n",
       " [216.0, 0.0, 16.0, 95.0, 3.0, 0.0, 0.0, 0.0, 0.0, 1.0, 3997.0],\n",
       " [217.0, 0.0, 20.0, 158.0, 1.0, 0.0, 0.0, 0.0, 0.0, 1.0, 3997.0],\n",
       " [218.0, 0.0, 26.0, 160.0, 3.0, 0.0, 0.0, 0.0, 0.0, 0.0, 4054.0],\n",
       " [219.0, 0.0, 21.0, 115.0, 1.0, 0.0, 0.0, 0.0, 0.0, 1.0, 4054.0],\n",
       " [220.0, 0.0, 22.0, 129.0, 1.0, 0.0, 0.0, 0.0, 0.0, 0.0, 4111.0],\n",
       " [221.0, 0.0, 25.0, 130.0, 1.0, 0.0, 0.0, 0.0, 0.0, 2.0, 4153.0],\n",
       " [222.0, 0.0, 31.0, 120.0, 1.0, 0.0, 0.0, 0.0, 0.0, 2.0, 4167.0],\n",
       " [223.0, 0.0, 35.0, 170.0, 1.0, 0.0, 1.0, 0.0, 0.0, 1.0, 4174.0],\n",
       " [224.0, 0.0, 19.0, 120.0, 1.0, 1.0, 0.0, 0.0, 0.0, 0.0, 4238.0],\n",
       " [225.0, 0.0, 24.0, 116.0, 1.0, 0.0, 0.0, 0.0, 0.0, 1.0, 4593.0],\n",
       " [226.0, 0.0, 45.0, 123.0, 1.0, 0.0, 0.0, 0.0, 0.0, 1.0, 4990.0],\n",
       " [4.0, 1.0, 28.0, 120.0, 3.0, 1.0, 1.0, 0.0, 1.0, 0.0, 709.0],\n",
       " [10.0, 1.0, 29.0, 130.0, 1.0, 0.0, 0.0, 0.0, 1.0, 2.0, 1021.0],\n",
       " [11.0, 1.0, 34.0, 187.0, 2.0, 1.0, 0.0, 1.0, 0.0, 0.0, 1135.0],\n",
       " [13.0, 1.0, 25.0, 105.0, 3.0, 0.0, 1.0, 1.0, 0.0, 0.0, 1330.0],\n",
       " [15.0, 1.0, 25.0, 85.0, 3.0, 0.0, 0.0, 0.0, 1.0, 0.0, 1474.0],\n",
       " [16.0, 1.0, 27.0, 150.0, 3.0, 0.0, 0.0, 0.0, 0.0, 0.0, 1588.0],\n",
       " [17.0, 1.0, 23.0, 97.0, 3.0, 0.0, 0.0, 0.0, 1.0, 1.0, 1588.0],\n",
       " [18.0, 1.0, 24.0, 128.0, 2.0, 0.0, 1.0, 0.0, 0.0, 1.0, 1701.0],\n",
       " [19.0, 1.0, 24.0, 132.0, 3.0, 0.0, 0.0, 1.0, 0.0, 0.0, 1729.0],\n",
       " [20.0, 1.0, 21.0, 165.0, 1.0, 1.0, 0.0, 1.0, 0.0, 1.0, 1790.0],\n",
       " [22.0, 1.0, 32.0, 105.0, 1.0, 1.0, 0.0, 0.0, 0.0, 0.0, 1818.0],\n",
       " [23.0, 1.0, 19.0, 91.0, 1.0, 1.0, 2.0, 0.0, 1.0, 0.0, 1885.0],\n",
       " [24.0, 1.0, 25.0, 115.0, 3.0, 0.0, 0.0, 0.0, 0.0, 0.0, 1893.0],\n",
       " [25.0, 1.0, 16.0, 130.0, 3.0, 0.0, 0.0, 0.0, 0.0, 1.0, 1899.0],\n",
       " [26.0, 1.0, 25.0, 92.0, 1.0, 1.0, 0.0, 0.0, 0.0, 0.0, 1928.0],\n",
       " [27.0, 1.0, 20.0, 150.0, 1.0, 1.0, 0.0, 0.0, 0.0, 2.0, 1928.0],\n",
       " [28.0, 1.0, 21.0, 200.0, 2.0, 0.0, 0.0, 0.0, 1.0, 2.0, 1928.0],\n",
       " [29.0, 1.0, 24.0, 155.0, 1.0, 1.0, 1.0, 0.0, 0.0, 0.0, 1936.0],\n",
       " [30.0, 1.0, 21.0, 103.0, 3.0, 0.0, 0.0, 0.0, 0.0, 0.0, 1970.0],\n",
       " [31.0, 1.0, 20.0, 125.0, 3.0, 0.0, 0.0, 0.0, 1.0, 0.0, 2055.0],\n",
       " [32.0, 1.0, 25.0, 89.0, 3.0, 0.0, 2.0, 0.0, 0.0, 1.0, 2055.0],\n",
       " [33.0, 1.0, 19.0, 102.0, 1.0, 0.0, 0.0, 0.0, 0.0, 2.0, 2082.0],\n",
       " [34.0, 1.0, 19.0, 112.0, 1.0, 1.0, 0.0, 0.0, 1.0, 0.0, 2084.0],\n",
       " [35.0, 1.0, 26.0, 117.0, 1.0, 1.0, 1.0, 0.0, 0.0, 0.0, 2084.0],\n",
       " [36.0, 1.0, 24.0, 138.0, 1.0, 0.0, 0.0, 0.0, 0.0, 0.0, 2100.0],\n",
       " [37.0, 1.0, 17.0, 130.0, 3.0, 1.0, 1.0, 0.0, 1.0, 0.0, 2125.0],\n",
       " [40.0, 1.0, 20.0, 120.0, 2.0, 1.0, 0.0, 0.0, 0.0, 3.0, 2126.0],\n",
       " [42.0, 1.0, 22.0, 130.0, 1.0, 1.0, 1.0, 0.0, 1.0, 1.0, 2187.0],\n",
       " [43.0, 1.0, 27.0, 130.0, 2.0, 0.0, 0.0, 0.0, 1.0, 0.0, 2187.0],\n",
       " [44.0, 1.0, 20.0, 80.0, 3.0, 1.0, 0.0, 0.0, 1.0, 0.0, 2211.0],\n",
       " [45.0, 1.0, 17.0, 110.0, 1.0, 1.0, 0.0, 0.0, 0.0, 0.0, 2225.0],\n",
       " [46.0, 1.0, 25.0, 105.0, 3.0, 0.0, 1.0, 0.0, 0.0, 1.0, 2240.0],\n",
       " [47.0, 1.0, 20.0, 109.0, 3.0, 0.0, 0.0, 0.0, 0.0, 0.0, 2240.0],\n",
       " [49.0, 1.0, 18.0, 148.0, 3.0, 0.0, 0.0, 0.0, 0.0, 0.0, 2282.0],\n",
       " [50.0, 1.0, 18.0, 110.0, 2.0, 1.0, 1.0, 0.0, 0.0, 0.0, 2296.0],\n",
       " [51.0, 1.0, 20.0, 121.0, 1.0, 1.0, 1.0, 0.0, 1.0, 0.0, 2296.0],\n",
       " [52.0, 1.0, 21.0, 100.0, 3.0, 0.0, 1.0, 0.0, 0.0, 4.0, 2301.0],\n",
       " [54.0, 1.0, 26.0, 96.0, 3.0, 0.0, 0.0, 0.0, 0.0, 0.0, 2325.0],\n",
       " [56.0, 1.0, 31.0, 102.0, 1.0, 1.0, 1.0, 0.0, 0.0, 1.0, 2353.0],\n",
       " [57.0, 1.0, 15.0, 110.0, 1.0, 0.0, 0.0, 0.0, 0.0, 0.0, 2353.0],\n",
       " [59.0, 1.0, 23.0, 187.0, 2.0, 1.0, 0.0, 0.0, 0.0, 1.0, 2367.0],\n",
       " [60.0, 1.0, 20.0, 122.0, 2.0, 1.0, 0.0, 0.0, 0.0, 0.0, 2381.0],\n",
       " [61.0, 1.0, 24.0, 105.0, 2.0, 1.0, 0.0, 0.0, 0.0, 0.0, 2381.0],\n",
       " [62.0, 1.0, 15.0, 115.0, 3.0, 0.0, 0.0, 0.0, 1.0, 0.0, 2381.0],\n",
       " [63.0, 1.0, 23.0, 120.0, 3.0, 0.0, 0.0, 0.0, 0.0, 0.0, 2395.0],\n",
       " [65.0, 1.0, 30.0, 142.0, 1.0, 1.0, 1.0, 0.0, 0.0, 0.0, 2410.0],\n",
       " [67.0, 1.0, 22.0, 130.0, 1.0, 1.0, 0.0, 0.0, 0.0, 1.0, 2410.0],\n",
       " [68.0, 1.0, 17.0, 120.0, 1.0, 1.0, 0.0, 0.0, 0.0, 3.0, 2414.0],\n",
       " [69.0, 1.0, 23.0, 110.0, 1.0, 1.0, 1.0, 0.0, 0.0, 0.0, 2424.0],\n",
       " [71.0, 1.0, 17.0, 120.0, 2.0, 0.0, 0.0, 0.0, 0.0, 2.0, 2438.0],\n",
       " [75.0, 1.0, 26.0, 154.0, 3.0, 0.0, 1.0, 1.0, 0.0, 1.0, 2442.0],\n",
       " [76.0, 1.0, 20.0, 105.0, 3.0, 0.0, 0.0, 0.0, 0.0, 3.0, 2450.0],\n",
       " [77.0, 1.0, 26.0, 190.0, 1.0, 1.0, 0.0, 0.0, 0.0, 0.0, 2466.0],\n",
       " [78.0, 1.0, 14.0, 101.0, 3.0, 1.0, 1.0, 0.0, 0.0, 0.0, 2466.0],\n",
       " [79.0, 1.0, 28.0, 95.0, 1.0, 1.0, 0.0, 0.0, 0.0, 2.0, 2466.0],\n",
       " [81.0, 1.0, 14.0, 100.0, 3.0, 0.0, 0.0, 0.0, 0.0, 2.0, 2495.0],\n",
       " [82.0, 1.0, 23.0, 94.0, 3.0, 1.0, 0.0, 0.0, 0.0, 0.0, 2495.0],\n",
       " [83.0, 1.0, 17.0, 142.0, 2.0, 0.0, 0.0, 1.0, 0.0, 0.0, 2495.0],\n",
       " [84.0, 1.0, 21.0, 130.0, 1.0, 1.0, 0.0, 1.0, 0.0, 3.0, 2495.0]]"
      ]
     },
     "execution_count": 6,
     "metadata": {},
     "output_type": "execute_result"
    }
   ],
   "source": [
    "birth_data2 = [[float(x) for x in y.split(' ') if len(x) >= 1] for y in birth_data[1:] if len(y)>=1]\n",
    "birth_data2"
   ]
  },
  {
   "cell_type": "code",
   "execution_count": 7,
   "metadata": {
    "collapsed": true
   },
   "outputs": [],
   "source": [
    "y_vals = np.array([x[1] for x in birth_data2])\n",
    "x_vals = np.array([x[2:9] for x in birth_data2])"
   ]
  },
  {
   "cell_type": "code",
   "execution_count": 8,
   "metadata": {},
   "outputs": [
    {
     "data": {
      "text/plain": [
       "array([ 0.,  0.,  0.,  0.,  0.,  0.,  0.,  0.,  0.,  0.,  0.,  0.,  0.,\n",
       "        0.,  0.,  0.,  0.,  0.,  0.,  0.,  0.,  0.,  0.,  0.,  0.,  0.,\n",
       "        0.,  0.,  0.,  0.,  0.,  0.,  0.,  0.,  0.,  0.,  0.,  0.,  0.,\n",
       "        0.,  0.,  0.,  0.,  0.,  0.,  0.,  0.,  0.,  0.,  0.,  0.,  0.,\n",
       "        0.,  0.,  0.,  0.,  0.,  0.,  0.,  0.,  0.,  0.,  0.,  0.,  0.,\n",
       "        0.,  0.,  0.,  0.,  0.,  0.,  0.,  0.,  0.,  0.,  0.,  0.,  0.,\n",
       "        0.,  0.,  0.,  0.,  0.,  0.,  0.,  0.,  0.,  0.,  0.,  0.,  0.,\n",
       "        0.,  0.,  0.,  0.,  0.,  0.,  0.,  0.,  0.,  0.,  0.,  0.,  0.,\n",
       "        0.,  0.,  0.,  0.,  0.,  0.,  0.,  0.,  0.,  0.,  0.,  0.,  0.,\n",
       "        0.,  0.,  0.,  0.,  0.,  0.,  0.,  0.,  0.,  0.,  0.,  0.,  0.,\n",
       "        1.,  1.,  1.,  1.,  1.,  1.,  1.,  1.,  1.,  1.,  1.,  1.,  1.,\n",
       "        1.,  1.,  1.,  1.,  1.,  1.,  1.,  1.,  1.,  1.,  1.,  1.,  1.,\n",
       "        1.,  1.,  1.,  1.,  1.,  1.,  1.,  1.,  1.,  1.,  1.,  1.,  1.,\n",
       "        1.,  1.,  1.,  1.,  1.,  1.,  1.,  1.,  1.,  1.,  1.,  1.,  1.,\n",
       "        1.,  1.,  1.,  1.,  1.,  1.,  1.])"
      ]
     },
     "execution_count": 8,
     "metadata": {},
     "output_type": "execute_result"
    }
   ],
   "source": [
    "y_vals"
   ]
  },
  {
   "cell_type": "code",
   "execution_count": 9,
   "metadata": {},
   "outputs": [
    {
     "data": {
      "text/plain": [
       "array([[  19.,  182.,    2., ...,    0.,    0.,    1.],\n",
       "       [  33.,  155.,    3., ...,    0.,    0.,    0.],\n",
       "       [  20.,  105.,    1., ...,    0.,    0.,    0.],\n",
       "       ..., \n",
       "       [  23.,   94.,    3., ...,    0.,    0.,    0.],\n",
       "       [  17.,  142.,    2., ...,    0.,    1.,    0.],\n",
       "       [  21.,  130.,    1., ...,    0.,    1.,    0.]])"
      ]
     },
     "execution_count": 9,
     "metadata": {},
     "output_type": "execute_result"
    }
   ],
   "source": [
    "x_vals"
   ]
  },
  {
   "cell_type": "code",
   "execution_count": 10,
   "metadata": {
    "collapsed": true
   },
   "outputs": [],
   "source": [
    "train_indices = np.random.choice(len(x_vals), round(len(x_vals)*0.8), replace=False)\n",
    "test_indices = np.array(list(set(range(len(x_vals))) - set(train_indices)))"
   ]
  },
  {
   "cell_type": "code",
   "execution_count": 11,
   "metadata": {
    "collapsed": true
   },
   "outputs": [],
   "source": [
    "# 训练\n",
    "x_vals_train = x_vals[train_indices]\n",
    "y_vals_train = y_vals[train_indices]\n",
    "# 测试\n",
    "x_vals_test = x_vals[test_indices]\n",
    "y_vals_test = y_vals[test_indices]"
   ]
  },
  {
   "cell_type": "code",
   "execution_count": 12,
   "metadata": {
    "collapsed": true
   },
   "outputs": [],
   "source": [
    "# 以上数据就准备好了，logistics regression做二分类哈"
   ]
  },
  {
   "cell_type": "code",
   "execution_count": 13,
   "metadata": {
    "collapsed": true
   },
   "outputs": [],
   "source": [
    "def normalize_cols(m):\n",
    "    col_max = m.max(axis=0)     # 按列\n",
    "    col_min = m.min(axis=0)\n",
    "    return (m - col_min) / (col_max - col_min)"
   ]
  },
  {
   "cell_type": "code",
   "execution_count": 14,
   "metadata": {
    "collapsed": true
   },
   "outputs": [],
   "source": [
    "x_vals_train = np.nan_to_num(normalize_cols(x_vals_train))\n",
    "x_vals_test = np.nan_to_num(normalize_cols(x_vals_test))"
   ]
  },
  {
   "cell_type": "code",
   "execution_count": 15,
   "metadata": {},
   "outputs": [
    {
     "data": {
      "text/plain": [
       "(151, 7)"
      ]
     },
     "execution_count": 15,
     "metadata": {},
     "output_type": "execute_result"
    }
   ],
   "source": [
    "x_vals_train.shape"
   ]
  },
  {
   "cell_type": "code",
   "execution_count": 16,
   "metadata": {},
   "outputs": [
    {
     "data": {
      "text/plain": [
       "array([[ 1.],\n",
       "       [ 0.],\n",
       "       [ 0.],\n",
       "       [ 1.],\n",
       "       [ 1.],\n",
       "       [ 1.],\n",
       "       [ 1.],\n",
       "       [ 1.],\n",
       "       [ 0.],\n",
       "       [ 1.],\n",
       "       [ 0.],\n",
       "       [ 0.],\n",
       "       [ 0.],\n",
       "       [ 1.],\n",
       "       [ 1.],\n",
       "       [ 0.],\n",
       "       [ 0.],\n",
       "       [ 0.],\n",
       "       [ 0.],\n",
       "       [ 0.],\n",
       "       [ 1.],\n",
       "       [ 0.],\n",
       "       [ 0.],\n",
       "       [ 0.],\n",
       "       [ 0.],\n",
       "       [ 1.],\n",
       "       [ 0.],\n",
       "       [ 0.],\n",
       "       [ 0.],\n",
       "       [ 0.],\n",
       "       [ 0.],\n",
       "       [ 0.],\n",
       "       [ 0.],\n",
       "       [ 0.],\n",
       "       [ 0.],\n",
       "       [ 0.],\n",
       "       [ 0.],\n",
       "       [ 0.],\n",
       "       [ 0.],\n",
       "       [ 0.],\n",
       "       [ 0.],\n",
       "       [ 0.],\n",
       "       [ 0.],\n",
       "       [ 1.],\n",
       "       [ 0.],\n",
       "       [ 0.],\n",
       "       [ 0.],\n",
       "       [ 0.],\n",
       "       [ 1.],\n",
       "       [ 1.],\n",
       "       [ 0.],\n",
       "       [ 0.],\n",
       "       [ 0.],\n",
       "       [ 0.],\n",
       "       [ 1.],\n",
       "       [ 0.],\n",
       "       [ 1.],\n",
       "       [ 1.],\n",
       "       [ 1.],\n",
       "       [ 0.],\n",
       "       [ 1.],\n",
       "       [ 0.],\n",
       "       [ 0.],\n",
       "       [ 0.],\n",
       "       [ 0.],\n",
       "       [ 1.],\n",
       "       [ 0.],\n",
       "       [ 0.],\n",
       "       [ 1.],\n",
       "       [ 1.],\n",
       "       [ 0.],\n",
       "       [ 0.],\n",
       "       [ 0.],\n",
       "       [ 0.],\n",
       "       [ 0.],\n",
       "       [ 0.],\n",
       "       [ 0.],\n",
       "       [ 0.],\n",
       "       [ 0.],\n",
       "       [ 0.],\n",
       "       [ 0.],\n",
       "       [ 1.],\n",
       "       [ 1.],\n",
       "       [ 0.],\n",
       "       [ 0.],\n",
       "       [ 0.],\n",
       "       [ 0.],\n",
       "       [ 0.],\n",
       "       [ 0.],\n",
       "       [ 1.],\n",
       "       [ 0.],\n",
       "       [ 0.],\n",
       "       [ 1.],\n",
       "       [ 0.],\n",
       "       [ 1.],\n",
       "       [ 0.],\n",
       "       [ 0.],\n",
       "       [ 1.],\n",
       "       [ 0.],\n",
       "       [ 1.],\n",
       "       [ 1.],\n",
       "       [ 1.],\n",
       "       [ 0.],\n",
       "       [ 0.],\n",
       "       [ 1.],\n",
       "       [ 1.],\n",
       "       [ 1.],\n",
       "       [ 1.],\n",
       "       [ 0.],\n",
       "       [ 0.],\n",
       "       [ 0.],\n",
       "       [ 0.],\n",
       "       [ 1.],\n",
       "       [ 0.],\n",
       "       [ 1.],\n",
       "       [ 1.],\n",
       "       [ 0.],\n",
       "       [ 0.],\n",
       "       [ 0.],\n",
       "       [ 0.],\n",
       "       [ 0.],\n",
       "       [ 0.],\n",
       "       [ 0.],\n",
       "       [ 0.],\n",
       "       [ 0.],\n",
       "       [ 0.],\n",
       "       [ 1.],\n",
       "       [ 1.],\n",
       "       [ 1.],\n",
       "       [ 0.],\n",
       "       [ 1.],\n",
       "       [ 0.],\n",
       "       [ 0.],\n",
       "       [ 0.],\n",
       "       [ 0.],\n",
       "       [ 0.],\n",
       "       [ 0.],\n",
       "       [ 0.],\n",
       "       [ 0.],\n",
       "       [ 0.],\n",
       "       [ 0.],\n",
       "       [ 1.],\n",
       "       [ 0.],\n",
       "       [ 0.],\n",
       "       [ 0.],\n",
       "       [ 0.],\n",
       "       [ 0.],\n",
       "       [ 0.],\n",
       "       [ 1.],\n",
       "       [ 0.],\n",
       "       [ 1.]])"
      ]
     },
     "execution_count": 16,
     "metadata": {},
     "output_type": "execute_result"
    }
   ],
   "source": [
    "np.transpose([y_vals_train])"
   ]
  },
  {
   "cell_type": "code",
   "execution_count": 17,
   "metadata": {
    "collapsed": true
   },
   "outputs": [],
   "source": [
    "#模型\n",
    "batch_size = 25\n",
    "x_data = tf.placeholder(shape=[None, 7], dtype=tf.float32)\n",
    "y_target = tf.placeholder(shape=[None, 1], dtype=tf.float32)\n",
    "A = tf.Variable(tf.random_normal(shape=[7, 1]))\n",
    "b = tf.Variable(tf.random_normal(shape=[1, ]))\n",
    "model_output = tf.add(tf.matmul(x_data, A), b)\n",
    "#损失函数\n",
    "loss = tf.reduce_mean(tf.nn.sigmoid_cross_entropy_with_logits(labels=y_target, logits=model_output))\n",
    "my_opt = tf.train.GradientDescentOptimizer(0.01)\n",
    "train_step = my_opt.minimize(loss)\n",
    "#初始化变量\n",
    "init = tf.global_variables_initializer()\n",
    "#预测\n",
    "prediction = tf.round(tf.sigmoid(model_output))\n",
    "prediction_correct = tf.cast(tf.equal(prediction, y_target), tf.float32)\n",
    "accuracy = tf.reduce_mean(prediction_correct)"
   ]
  },
  {
   "cell_type": "code",
   "execution_count": 19,
   "metadata": {},
   "outputs": [
    {
     "data": {
      "image/png": "[encoded data removed]",
      "text/plain": [
       "<Figure size 432x288 with 1 Axes>"
      ]
     },
     "metadata": {},
     "output_type": "display_data"
    },
    {
     "data": {
      "image/png": "[encoded data removed]",
      "text/plain": [
       "<Figure size 432x288 with 1 Axes>"
      ]
     },
     "metadata": {},
     "output_type": "display_data"
    }
   ],
   "source": [
    "with tf.Session() as sess:\n",
    "    sess.run(init) \n",
    "    loss_vec = []     #损失曲线\n",
    "    train_acc = []    #训练集准确率曲线\n",
    "    test_acc = []     #测试集准确率曲线\n",
    "    for i in range(1500):\n",
    "        rand_index = np.random.choice(len(x_vals_train), size=batch_size)\n",
    "        rand_x = x_vals_train[rand_index]\n",
    "        rand_y = np.transpose([y_vals_train[rand_index]])\n",
    "        sess.run(train_step, feed_dict={x_data: rand_x, y_target: rand_y})\n",
    "        #损失\n",
    "        temp_loss = sess.run(loss, feed_dict={x_data: rand_x, y_target: rand_y})\n",
    "        loss_vec.append(temp_loss)\n",
    "        #准确率\n",
    "        temp_acc_train = sess.run(accuracy, feed_dict={x_data: x_vals_train, y_target: np.transpose([y_vals_train])})\n",
    "        train_acc.append(temp_acc_train)\n",
    "        temp_acc_test = sess.run(accuracy, feed_dict={x_data: x_vals_test, y_target: np.transpose([y_vals_test])})\n",
    "        test_acc.append(temp_acc_test)\n",
    "    #交叉熵损失曲线\n",
    "    plt.plot(loss_vec, 'k-')\n",
    "    plt.title('Cross Entropy Loss per Generation')\n",
    "    plt.xlabel('Generation')\n",
    "    plt.ylabel('Cross Entropy Losss')\n",
    "    plt.show()\n",
    "    #准确率曲线\n",
    "    plt.plot(train_acc, 'k-', label='Train Set Accuracy')\n",
    "    plt.plot(test_acc, 'r--', label='Test Set Accuracy')\n",
    "    plt.title('Train and Test Accuracy')\n",
    "    plt.xlabel('Generation')\n",
    "    plt.ylabel('Accuracy')\n",
    "    plt.legend(loc='lower right')\n",
    "    plt.show()"
   ]
  },
  {
   "cell_type": "code",
   "execution_count": null,
   "metadata": {
    "collapsed": true
   },
   "outputs": [],
   "source": []
  }
 ],
 "metadata": {
  "kernelspec": {
   "display_name": "Python [conda env:tensorflow-gpu]",
   "language": "python",
   "name": "conda-env-tensorflow-gpu-py"
  },
  "language_info": {
   "codemirror_mode": {
    "name": "ipython",
    "version": 3
   },
   "file_extension": ".py",
   "mimetype": "text/x-python",
   "name": "python",
   "nbconvert_exporter": "python",
   "pygments_lexer": "ipython3",
   "version": "3.6.2"
  }
 },
 "nbformat": 4,
 "nbformat_minor": 2
}
